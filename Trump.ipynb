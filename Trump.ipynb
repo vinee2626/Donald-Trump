{
 "metadata": {
  "language_info": {
   "codemirror_mode": {
    "name": "ipython",
    "version": 3
   },
   "file_extension": ".py",
   "mimetype": "text/x-python",
   "name": "python",
   "nbconvert_exporter": "python",
   "pygments_lexer": "ipython3",
   "version": "3.8.5"
  },
  "orig_nbformat": 2,
  "kernelspec": {
   "name": "python3",
   "display_name": "Python 3.8.5 64-bit ('base': conda)"
  },
  "interpreter": {
   "hash": "9f8e8f6e477eed661567e6d28021af0d845b717ba1160204365a660f3460a38e"
  }
 },
 "nbformat": 4,
 "nbformat_minor": 2,
 "cells": [
  {
   "cell_type": "markdown",
   "source": [
    "## Donald Trump insulting Tweets "
   ],
   "metadata": {}
  },
  {
   "cell_type": "code",
   "execution_count": 1,
   "source": [
    "import pandas as pd \r\n",
    "import matplotlib.pyplot as plt \r\n",
    "import seaborn as sns \r\n",
    "import warnings\r\n",
    "warnings.filterwarnings('ignore')"
   ],
   "outputs": [],
   "metadata": {}
  },
  {
   "cell_type": "code",
   "execution_count": 2,
   "source": [
    "df = pd.read_csv('trump_insult_tweets_2014_to_2021.csv', index_col=False)\r\n",
    "df"
   ],
   "outputs": [
    {
     "output_type": "execute_result",
     "data": {
      "text/html": [
       "<div>\n",
       "<style scoped>\n",
       "    .dataframe tbody tr th:only-of-type {\n",
       "        vertical-align: middle;\n",
       "    }\n",
       "\n",
       "    .dataframe tbody tr th {\n",
       "        vertical-align: top;\n",
       "    }\n",
       "\n",
       "    .dataframe thead th {\n",
       "        text-align: right;\n",
       "    }\n",
       "</style>\n",
       "<table border=\"1\" class=\"dataframe\">\n",
       "  <thead>\n",
       "    <tr style=\"text-align: right;\">\n",
       "      <th></th>\n",
       "      <th>sr no</th>\n",
       "      <th>date</th>\n",
       "      <th>target</th>\n",
       "      <th>insult</th>\n",
       "      <th>tweet</th>\n",
       "    </tr>\n",
       "  </thead>\n",
       "  <tbody>\n",
       "    <tr>\n",
       "      <th>0</th>\n",
       "      <td>1</td>\n",
       "      <td>09-10-2014</td>\n",
       "      <td>thomas-frieden</td>\n",
       "      <td>fool</td>\n",
       "      <td>Can you believe this fool, Dr. Thomas Frieden ...</td>\n",
       "    </tr>\n",
       "    <tr>\n",
       "      <th>1</th>\n",
       "      <td>2</td>\n",
       "      <td>09-10-2014</td>\n",
       "      <td>thomas-frieden</td>\n",
       "      <td>DOPE</td>\n",
       "      <td>Can you believe this fool, Dr. Thomas Frieden ...</td>\n",
       "    </tr>\n",
       "    <tr>\n",
       "      <th>2</th>\n",
       "      <td>3</td>\n",
       "      <td>16-06-2015</td>\n",
       "      <td>politicians</td>\n",
       "      <td>all talk and no action</td>\n",
       "      <td>Big time in U.S. today - MAKE AMERICA GREAT AG...</td>\n",
       "    </tr>\n",
       "    <tr>\n",
       "      <th>3</th>\n",
       "      <td>4</td>\n",
       "      <td>24-06-2015</td>\n",
       "      <td>ben-cardin</td>\n",
       "      <td>It's politicians like Cardin that have destroy...</td>\n",
       "      <td>Politician @SenatorCardin didn't like that I s...</td>\n",
       "    </tr>\n",
       "    <tr>\n",
       "      <th>4</th>\n",
       "      <td>5</td>\n",
       "      <td>24-06-2015</td>\n",
       "      <td>neil-young</td>\n",
       "      <td>total hypocrite</td>\n",
       "      <td>For the nonbeliever, here is a photo of @Neily...</td>\n",
       "    </tr>\n",
       "    <tr>\n",
       "      <th>...</th>\n",
       "      <td>...</td>\n",
       "      <td>...</td>\n",
       "      <td>...</td>\n",
       "      <td>...</td>\n",
       "      <td>...</td>\n",
       "    </tr>\n",
       "    <tr>\n",
       "      <th>10355</th>\n",
       "      <td>10356</td>\n",
       "      <td>06-01-2021</td>\n",
       "      <td>2020-election</td>\n",
       "      <td>Many States want to decertify the mistake they...</td>\n",
       "      <td>If Vice President @Mike_Pence comes through fo...</td>\n",
       "    </tr>\n",
       "    <tr>\n",
       "      <th>10356</th>\n",
       "      <td>10357</td>\n",
       "      <td>06-01-2021</td>\n",
       "      <td>2020-election</td>\n",
       "      <td>based on irregularities and fraud, plus corrup...</td>\n",
       "      <td>States want to correct their votes, which they...</td>\n",
       "    </tr>\n",
       "    <tr>\n",
       "      <th>10357</th>\n",
       "      <td>10358</td>\n",
       "      <td>06-01-2021</td>\n",
       "      <td>2020-election</td>\n",
       "      <td>Our Election Process is worse than that of thi...</td>\n",
       "      <td>They just happened to find 50,000 ballots late...</td>\n",
       "    </tr>\n",
       "    <tr>\n",
       "      <th>10358</th>\n",
       "      <td>10359</td>\n",
       "      <td>06-01-2021</td>\n",
       "      <td>2020-election</td>\n",
       "      <td>a FRAUD</td>\n",
       "      <td>The States want to redo their votes. They foun...</td>\n",
       "    </tr>\n",
       "    <tr>\n",
       "      <th>10359</th>\n",
       "      <td>10360</td>\n",
       "      <td>06-01-2021</td>\n",
       "      <td>chuck-todd</td>\n",
       "      <td>Sleepy Eyes,  Sad to watch!</td>\n",
       "      <td>Sleepy Eyes Chuck Todd is so happy with the fa...</td>\n",
       "    </tr>\n",
       "  </tbody>\n",
       "</table>\n",
       "<p>10360 rows × 5 columns</p>\n",
       "</div>"
      ],
      "text/plain": [
       "       sr no        date          target  \\\n",
       "0          1  09-10-2014  thomas-frieden   \n",
       "1          2  09-10-2014  thomas-frieden   \n",
       "2          3  16-06-2015     politicians   \n",
       "3          4  24-06-2015      ben-cardin   \n",
       "4          5  24-06-2015      neil-young   \n",
       "...      ...         ...             ...   \n",
       "10355  10356  06-01-2021   2020-election   \n",
       "10356  10357  06-01-2021   2020-election   \n",
       "10357  10358  06-01-2021   2020-election   \n",
       "10358  10359  06-01-2021   2020-election   \n",
       "10359  10360  06-01-2021      chuck-todd   \n",
       "\n",
       "                                                  insult  \\\n",
       "0                                                   fool   \n",
       "1                                                   DOPE   \n",
       "2                                 all talk and no action   \n",
       "3      It's politicians like Cardin that have destroy...   \n",
       "4                                        total hypocrite   \n",
       "...                                                  ...   \n",
       "10355  Many States want to decertify the mistake they...   \n",
       "10356  based on irregularities and fraud, plus corrup...   \n",
       "10357  Our Election Process is worse than that of thi...   \n",
       "10358                                            a FRAUD   \n",
       "10359                        Sleepy Eyes,  Sad to watch!   \n",
       "\n",
       "                                                   tweet  \n",
       "0      Can you believe this fool, Dr. Thomas Frieden ...  \n",
       "1      Can you believe this fool, Dr. Thomas Frieden ...  \n",
       "2      Big time in U.S. today - MAKE AMERICA GREAT AG...  \n",
       "3      Politician @SenatorCardin didn't like that I s...  \n",
       "4      For the nonbeliever, here is a photo of @Neily...  \n",
       "...                                                  ...  \n",
       "10355  If Vice President @Mike_Pence comes through fo...  \n",
       "10356  States want to correct their votes, which they...  \n",
       "10357  They just happened to find 50,000 ballots late...  \n",
       "10358  The States want to redo their votes. They foun...  \n",
       "10359  Sleepy Eyes Chuck Todd is so happy with the fa...  \n",
       "\n",
       "[10360 rows x 5 columns]"
      ]
     },
     "metadata": {},
     "execution_count": 2
    }
   ],
   "metadata": {}
  },
  {
   "cell_type": "markdown",
   "source": [
    "### Cleaning our data-set"
   ],
   "metadata": {}
  },
  {
   "cell_type": "code",
   "execution_count": 3,
   "source": [
    "#df.drop(\"Unnamed: 0\",axis=1, inplace=True)"
   ],
   "outputs": [],
   "metadata": {}
  },
  {
   "cell_type": "code",
   "execution_count": 4,
   "source": [
    "df[df.isnull().any(axis=1)]"
   ],
   "outputs": [
    {
     "output_type": "execute_result",
     "data": {
      "text/html": [
       "<div>\n",
       "<style scoped>\n",
       "    .dataframe tbody tr th:only-of-type {\n",
       "        vertical-align: middle;\n",
       "    }\n",
       "\n",
       "    .dataframe tbody tr th {\n",
       "        vertical-align: top;\n",
       "    }\n",
       "\n",
       "    .dataframe thead th {\n",
       "        text-align: right;\n",
       "    }\n",
       "</style>\n",
       "<table border=\"1\" class=\"dataframe\">\n",
       "  <thead>\n",
       "    <tr style=\"text-align: right;\">\n",
       "      <th></th>\n",
       "      <th>sr no</th>\n",
       "      <th>date</th>\n",
       "      <th>target</th>\n",
       "      <th>insult</th>\n",
       "      <th>tweet</th>\n",
       "    </tr>\n",
       "  </thead>\n",
       "  <tbody>\n",
       "    <tr>\n",
       "      <th>2533</th>\n",
       "      <td>2534</td>\n",
       "      <td>31-03-2017</td>\n",
       "      <td>NaN</td>\n",
       "      <td>a witch hunt</td>\n",
       "      <td>Mike Flynn should ask for immunity in that thi...</td>\n",
       "    </tr>\n",
       "    <tr>\n",
       "      <th>7439</th>\n",
       "      <td>7440</td>\n",
       "      <td>08-12-2019</td>\n",
       "      <td>NaN</td>\n",
       "      <td>Fake News</td>\n",
       "      <td>I got NATO countries to pay 530 Billion Dollar...</td>\n",
       "    </tr>\n",
       "  </tbody>\n",
       "</table>\n",
       "</div>"
      ],
      "text/plain": [
       "      sr no        date target        insult  \\\n",
       "2533   2534  31-03-2017    NaN  a witch hunt   \n",
       "7439   7440  08-12-2019    NaN     Fake News   \n",
       "\n",
       "                                                  tweet  \n",
       "2533  Mike Flynn should ask for immunity in that thi...  \n",
       "7439  I got NATO countries to pay 530 Billion Dollar...  "
      ]
     },
     "metadata": {},
     "execution_count": 4
    }
   ],
   "metadata": {}
  },
  {
   "cell_type": "code",
   "execution_count": 5,
   "source": [
    "df = df.dropna(axis=0, how='any')"
   ],
   "outputs": [],
   "metadata": {}
  },
  {
   "cell_type": "markdown",
   "source": [
    "### In which year did Donald Trump post the most tweets? "
   ],
   "metadata": {}
  },
  {
   "cell_type": "code",
   "execution_count": 6,
   "source": [
    "df['date'] = pd.to_datetime(df['date'])"
   ],
   "outputs": [],
   "metadata": {}
  },
  {
   "cell_type": "code",
   "execution_count": 7,
   "source": [
    "df['month'] = df['date'].dt.month\r\n",
    "df['year'] = df['date'].dt.year\r\n",
    "df.head()"
   ],
   "outputs": [
    {
     "output_type": "execute_result",
     "data": {
      "text/html": [
       "<div>\n",
       "<style scoped>\n",
       "    .dataframe tbody tr th:only-of-type {\n",
       "        vertical-align: middle;\n",
       "    }\n",
       "\n",
       "    .dataframe tbody tr th {\n",
       "        vertical-align: top;\n",
       "    }\n",
       "\n",
       "    .dataframe thead th {\n",
       "        text-align: right;\n",
       "    }\n",
       "</style>\n",
       "<table border=\"1\" class=\"dataframe\">\n",
       "  <thead>\n",
       "    <tr style=\"text-align: right;\">\n",
       "      <th></th>\n",
       "      <th>sr no</th>\n",
       "      <th>date</th>\n",
       "      <th>target</th>\n",
       "      <th>insult</th>\n",
       "      <th>tweet</th>\n",
       "      <th>month</th>\n",
       "      <th>year</th>\n",
       "    </tr>\n",
       "  </thead>\n",
       "  <tbody>\n",
       "    <tr>\n",
       "      <th>0</th>\n",
       "      <td>1</td>\n",
       "      <td>2014-09-10</td>\n",
       "      <td>thomas-frieden</td>\n",
       "      <td>fool</td>\n",
       "      <td>Can you believe this fool, Dr. Thomas Frieden ...</td>\n",
       "      <td>9</td>\n",
       "      <td>2014</td>\n",
       "    </tr>\n",
       "    <tr>\n",
       "      <th>1</th>\n",
       "      <td>2</td>\n",
       "      <td>2014-09-10</td>\n",
       "      <td>thomas-frieden</td>\n",
       "      <td>DOPE</td>\n",
       "      <td>Can you believe this fool, Dr. Thomas Frieden ...</td>\n",
       "      <td>9</td>\n",
       "      <td>2014</td>\n",
       "    </tr>\n",
       "    <tr>\n",
       "      <th>2</th>\n",
       "      <td>3</td>\n",
       "      <td>2015-06-16</td>\n",
       "      <td>politicians</td>\n",
       "      <td>all talk and no action</td>\n",
       "      <td>Big time in U.S. today - MAKE AMERICA GREAT AG...</td>\n",
       "      <td>6</td>\n",
       "      <td>2015</td>\n",
       "    </tr>\n",
       "    <tr>\n",
       "      <th>3</th>\n",
       "      <td>4</td>\n",
       "      <td>2015-06-24</td>\n",
       "      <td>ben-cardin</td>\n",
       "      <td>It's politicians like Cardin that have destroy...</td>\n",
       "      <td>Politician @SenatorCardin didn't like that I s...</td>\n",
       "      <td>6</td>\n",
       "      <td>2015</td>\n",
       "    </tr>\n",
       "    <tr>\n",
       "      <th>4</th>\n",
       "      <td>5</td>\n",
       "      <td>2015-06-24</td>\n",
       "      <td>neil-young</td>\n",
       "      <td>total hypocrite</td>\n",
       "      <td>For the nonbeliever, here is a photo of @Neily...</td>\n",
       "      <td>6</td>\n",
       "      <td>2015</td>\n",
       "    </tr>\n",
       "  </tbody>\n",
       "</table>\n",
       "</div>"
      ],
      "text/plain": [
       "   sr no       date          target  \\\n",
       "0      1 2014-09-10  thomas-frieden   \n",
       "1      2 2014-09-10  thomas-frieden   \n",
       "2      3 2015-06-16     politicians   \n",
       "3      4 2015-06-24      ben-cardin   \n",
       "4      5 2015-06-24      neil-young   \n",
       "\n",
       "                                              insult  \\\n",
       "0                                               fool   \n",
       "1                                               DOPE   \n",
       "2                             all talk and no action   \n",
       "3  It's politicians like Cardin that have destroy...   \n",
       "4                                    total hypocrite   \n",
       "\n",
       "                                               tweet  month  year  \n",
       "0  Can you believe this fool, Dr. Thomas Frieden ...      9  2014  \n",
       "1  Can you believe this fool, Dr. Thomas Frieden ...      9  2014  \n",
       "2  Big time in U.S. today - MAKE AMERICA GREAT AG...      6  2015  \n",
       "3  Politician @SenatorCardin didn't like that I s...      6  2015  \n",
       "4  For the nonbeliever, here is a photo of @Neily...      6  2015  "
      ]
     },
     "metadata": {},
     "execution_count": 7
    }
   ],
   "metadata": {}
  },
  {
   "cell_type": "code",
   "execution_count": 8,
   "source": [
    "hot = pd.DataFrame(df.groupby(['year', 'month']).count()['tweet'].reset_index())\r\n",
    "hot"
   ],
   "outputs": [
    {
     "output_type": "execute_result",
     "data": {
      "text/html": [
       "<div>\n",
       "<style scoped>\n",
       "    .dataframe tbody tr th:only-of-type {\n",
       "        vertical-align: middle;\n",
       "    }\n",
       "\n",
       "    .dataframe tbody tr th {\n",
       "        vertical-align: top;\n",
       "    }\n",
       "\n",
       "    .dataframe thead th {\n",
       "        text-align: right;\n",
       "    }\n",
       "</style>\n",
       "<table border=\"1\" class=\"dataframe\">\n",
       "  <thead>\n",
       "    <tr style=\"text-align: right;\">\n",
       "      <th></th>\n",
       "      <th>year</th>\n",
       "      <th>month</th>\n",
       "      <th>tweet</th>\n",
       "    </tr>\n",
       "  </thead>\n",
       "  <tbody>\n",
       "    <tr>\n",
       "      <th>0</th>\n",
       "      <td>2014</td>\n",
       "      <td>9</td>\n",
       "      <td>2</td>\n",
       "    </tr>\n",
       "    <tr>\n",
       "      <th>1</th>\n",
       "      <td>2015</td>\n",
       "      <td>1</td>\n",
       "      <td>14</td>\n",
       "    </tr>\n",
       "    <tr>\n",
       "      <th>2</th>\n",
       "      <td>2015</td>\n",
       "      <td>2</td>\n",
       "      <td>15</td>\n",
       "    </tr>\n",
       "    <tr>\n",
       "      <th>3</th>\n",
       "      <td>2015</td>\n",
       "      <td>3</td>\n",
       "      <td>18</td>\n",
       "    </tr>\n",
       "    <tr>\n",
       "      <th>4</th>\n",
       "      <td>2015</td>\n",
       "      <td>4</td>\n",
       "      <td>7</td>\n",
       "    </tr>\n",
       "    <tr>\n",
       "      <th>...</th>\n",
       "      <td>...</td>\n",
       "      <td>...</td>\n",
       "      <td>...</td>\n",
       "    </tr>\n",
       "    <tr>\n",
       "      <th>74</th>\n",
       "      <td>2021</td>\n",
       "      <td>2</td>\n",
       "      <td>1</td>\n",
       "    </tr>\n",
       "    <tr>\n",
       "      <th>75</th>\n",
       "      <td>2021</td>\n",
       "      <td>3</td>\n",
       "      <td>7</td>\n",
       "    </tr>\n",
       "    <tr>\n",
       "      <th>76</th>\n",
       "      <td>2021</td>\n",
       "      <td>4</td>\n",
       "      <td>3</td>\n",
       "    </tr>\n",
       "    <tr>\n",
       "      <th>77</th>\n",
       "      <td>2021</td>\n",
       "      <td>5</td>\n",
       "      <td>4</td>\n",
       "    </tr>\n",
       "    <tr>\n",
       "      <th>78</th>\n",
       "      <td>2021</td>\n",
       "      <td>6</td>\n",
       "      <td>6</td>\n",
       "    </tr>\n",
       "  </tbody>\n",
       "</table>\n",
       "<p>79 rows × 3 columns</p>\n",
       "</div>"
      ],
      "text/plain": [
       "    year  month  tweet\n",
       "0   2014      9      2\n",
       "1   2015      1     14\n",
       "2   2015      2     15\n",
       "3   2015      3     18\n",
       "4   2015      4      7\n",
       "..   ...    ...    ...\n",
       "74  2021      2      1\n",
       "75  2021      3      7\n",
       "76  2021      4      3\n",
       "77  2021      5      4\n",
       "78  2021      6      6\n",
       "\n",
       "[79 rows x 3 columns]"
      ]
     },
     "metadata": {},
     "execution_count": 8
    }
   ],
   "metadata": {}
  },
  {
   "cell_type": "markdown",
   "source": [
    "### Visualization of the tweets over the years "
   ],
   "metadata": {}
  },
  {
   "cell_type": "code",
   "execution_count": 9,
   "source": [
    "plt.bar(hot['year'], hot['tweet'], color= '#1338BE')\r\n",
    "plt.xlabel('YEAR', size= 10)\r\n",
    "plt.ylabel('Nunmber of tweets', size = 10)\r\n",
    "plt.show()\r\n",
    "#IN 2020 DONALD TRUMP POST THE MOST TWEETS MAYBE BCOZ OF THE ELECTIONS."
   ],
   "outputs": [
    {
     "output_type": "display_data",
     "data": {
      "image/png": "[encoded data removed]",
      "text/plain": [
       "<Figure size 432x288 with 1 Axes>"
      ]
     },
     "metadata": {
      "needs_background": "light"
     }
    }
   ],
   "metadata": {}
  },
  {
   "cell_type": "markdown",
   "source": [
    "### IN 2020 , IN WHICH MONTH DID DONALD TRUMP POST THE MOST TWEETS? "
   ],
   "metadata": {}
  },
  {
   "cell_type": "code",
   "execution_count": 10,
   "source": [
    "new_df = df.loc[df['year']==2020]\r\n",
    "new_df = new_df.groupby('month').count()['tweet']\r\n",
    "new_df"
   ],
   "outputs": [
    {
     "output_type": "execute_result",
     "data": {
      "text/plain": [
       "month\n",
       "1     227\n",
       "2     237\n",
       "3     148\n",
       "4     181\n",
       "5     241\n",
       "6     197\n",
       "7     189\n",
       "8     257\n",
       "9     241\n",
       "10    286\n",
       "11    244\n",
       "12    264\n",
       "Name: tweet, dtype: int64"
      ]
     },
     "metadata": {},
     "execution_count": 10
    }
   ],
   "metadata": {}
  },
  {
   "cell_type": "markdown",
   "source": [
    "### Visualization for indicating the months of 2020 regarding tweets"
   ],
   "metadata": {}
  },
  {
   "cell_type": "code",
   "execution_count": 11,
   "source": [
    "ax = new_df.plot(kind ='bar',color='#52b2bf')\r\n",
    "ax.set_xticklabels(ax.get_xticklabels(), rotation = 0)\r\n",
    "ax.set_ylabel('Total no. of Tweets ')\r\n",
    "ax.set_xlabel(\"Months of 2020\")"
   ],
   "outputs": [
    {
     "output_type": "execute_result",
     "data": {
      "text/plain": [
       "Text(0.5, 0, 'Months of 2020')"
      ]
     },
     "metadata": {},
     "execution_count": 11
    },
    {
     "output_type": "display_data",
     "data": {
      "image/png": "[encoded data removed]",
      "text/plain": [
       "<Figure size 432x288 with 1 Axes>"
      ]
     },
     "metadata": {
      "needs_background": "light"
     }
    }
   ],
   "metadata": {}
  },
  {
   "cell_type": "markdown",
   "source": [
    "### Who did Donald Trump target the most?"
   ],
   "metadata": {}
  },
  {
   "cell_type": "code",
   "execution_count": 12,
   "source": [
    "target = pd.DataFrame(df.groupby(['target']).count()['tweet'].sort_values(ascending=False)).head()\r\n",
    "target"
   ],
   "outputs": [
    {
     "output_type": "execute_result",
     "data": {
      "text/html": [
       "<div>\n",
       "<style scoped>\n",
       "    .dataframe tbody tr th:only-of-type {\n",
       "        vertical-align: middle;\n",
       "    }\n",
       "\n",
       "    .dataframe tbody tr th {\n",
       "        vertical-align: top;\n",
       "    }\n",
       "\n",
       "    .dataframe thead th {\n",
       "        text-align: right;\n",
       "    }\n",
       "</style>\n",
       "<table border=\"1\" class=\"dataframe\">\n",
       "  <thead>\n",
       "    <tr style=\"text-align: right;\">\n",
       "      <th></th>\n",
       "      <th>tweet</th>\n",
       "    </tr>\n",
       "    <tr>\n",
       "      <th>target</th>\n",
       "      <th></th>\n",
       "    </tr>\n",
       "  </thead>\n",
       "  <tbody>\n",
       "    <tr>\n",
       "      <th>the-media</th>\n",
       "      <td>1287</td>\n",
       "    </tr>\n",
       "    <tr>\n",
       "      <th>democrats</th>\n",
       "      <td>647</td>\n",
       "    </tr>\n",
       "    <tr>\n",
       "      <th>hillary-clinton</th>\n",
       "      <td>625</td>\n",
       "    </tr>\n",
       "    <tr>\n",
       "      <th>trump-russia</th>\n",
       "      <td>441</td>\n",
       "    </tr>\n",
       "    <tr>\n",
       "      <th>joe-biden</th>\n",
       "      <td>402</td>\n",
       "    </tr>\n",
       "  </tbody>\n",
       "</table>\n",
       "</div>"
      ],
      "text/plain": [
       "                 tweet\n",
       "target                \n",
       "the-media         1287\n",
       "democrats          647\n",
       "hillary-clinton    625\n",
       "trump-russia       441\n",
       "joe-biden          402"
      ]
     },
     "metadata": {},
     "execution_count": 12
    }
   ],
   "metadata": {}
  },
  {
   "cell_type": "code",
   "execution_count": 13,
   "source": [
    "ax1 = target.plot(kind='bar',color='#151e3d')\r\n",
    "ax1.set_xticklabels(ax1.get_xticklabels(), rotation = 0)\r\n",
    "ax1.set_ylabel('Number of Tweets ', size=12)\r\n",
    "ax1.set_xlabel(\"Targets\", size=12)"
   ],
   "outputs": [
    {
     "output_type": "execute_result",
     "data": {
      "text/plain": [
       "Text(0.5, 0, 'Targets')"
      ]
     },
     "metadata": {},
     "execution_count": 13
    },
    {
     "output_type": "display_data",
     "data": {
      "image/png": "[encoded data removed]",
      "text/plain": [
       "<Figure size 432x288 with 1 Axes>"
      ]
     },
     "metadata": {
      "needs_background": "light"
     }
    }
   ],
   "metadata": {}
  },
  {
   "cell_type": "markdown",
   "source": [
    "### Which insults did Donald Trump use the most frequently?"
   ],
   "metadata": {}
  },
  {
   "cell_type": "code",
   "execution_count": 14,
   "source": [
    "insult = df['insult'].value_counts().head(25)\r\n",
    "insult"
   ],
   "outputs": [
    {
     "output_type": "execute_result",
     "data": {
      "text/plain": [
       "Fake News               430\n",
       "Crooked                 266\n",
       "Sleepy Joe              129\n",
       "failing                  82\n",
       "Crooked Hillary          77\n",
       "Witch Hunt               76\n",
       "Fake News Media          71\n",
       "Do Nothing Democrats     57\n",
       "FAKE NEWS                52\n",
       "Impeachment Hoax         43\n",
       "dishonest                35\n",
       "Failing                  35\n",
       "Mini Mike                34\n",
       "Lamestream Media         33\n",
       "Corrupt                  31\n",
       "Fake                     31\n",
       "phony                    29\n",
       "Fake News!               28\n",
       "Sleepy Joe Biden         26\n",
       "Witch Hunt!              26\n",
       "corrupt                  26\n",
       "Crazy Nancy              25\n",
       "Crazy Bernie             24\n",
       "MSDNC                    23\n",
       "Sad!                     22\n",
       "Name: insult, dtype: int64"
      ]
     },
     "metadata": {},
     "execution_count": 14
    }
   ],
   "metadata": {}
  },
  {
   "cell_type": "code",
   "execution_count": 15,
   "source": [
    "ax2=insult.plot(kind= 'bar', color='#58111a')\r\n",
    "ax2.set_xticklabels(ax2.get_xticklabels())\r\n",
    "ax2.set_ylabel('Number of Tweets ', size=12)\r\n",
    "ax2.set_xlabel(\"INSULTS\", size=12)"
   ],
   "outputs": [
    {
     "output_type": "execute_result",
     "data": {
      "text/plain": [
       "Text(0.5, 0, 'INSULTS')"
      ]
     },
     "metadata": {},
     "execution_count": 15
    },
    {
     "output_type": "display_data",
     "data": {
      "image/png": "[encoded data removed]",
      "text/plain": [
       "<Figure size 432x288 with 1 Axes>"
      ]
     },
     "metadata": {
      "needs_background": "light"
     }
    }
   ],
   "metadata": {}
  },
  {
   "cell_type": "markdown",
   "source": [
    "### It explains well from the previous analysis that Donald trump targeted the media most over Tweets, so he used \"FAKE NEWS\" the most as an insult "
   ],
   "metadata": {}
  },
  {
   "cell_type": "markdown",
   "source": [
    "### What did and how many tweets did Donald Trump post on the first of new year? "
   ],
   "metadata": {}
  },
  {
   "cell_type": "code",
   "execution_count": 16,
   "source": [
    "new_year= df.loc[df['date'] == '2021-01-01']\r\n",
    "new_year"
   ],
   "outputs": [
    {
     "output_type": "execute_result",
     "data": {
      "text/html": [
       "<div>\n",
       "<style scoped>\n",
       "    .dataframe tbody tr th:only-of-type {\n",
       "        vertical-align: middle;\n",
       "    }\n",
       "\n",
       "    .dataframe tbody tr th {\n",
       "        vertical-align: top;\n",
       "    }\n",
       "\n",
       "    .dataframe thead th {\n",
       "        text-align: right;\n",
       "    }\n",
       "</style>\n",
       "<table border=\"1\" class=\"dataframe\">\n",
       "  <thead>\n",
       "    <tr style=\"text-align: right;\">\n",
       "      <th></th>\n",
       "      <th>sr no</th>\n",
       "      <th>date</th>\n",
       "      <th>target</th>\n",
       "      <th>insult</th>\n",
       "      <th>tweet</th>\n",
       "      <th>month</th>\n",
       "      <th>year</th>\n",
       "    </tr>\n",
       "  </thead>\n",
       "  <tbody>\n",
       "    <tr>\n",
       "      <th>10333</th>\n",
       "      <td>10334</td>\n",
       "      <td>2021-01-01</td>\n",
       "      <td>john-thune</td>\n",
       "      <td>RINO</td>\n",
       "      <td>I hope to see the great Governor of South Dako...</td>\n",
       "      <td>1</td>\n",
       "      <td>2021</td>\n",
       "    </tr>\n",
       "    <tr>\n",
       "      <th>10334</th>\n",
       "      <td>10335</td>\n",
       "      <td>2021-01-01</td>\n",
       "      <td>2020-election</td>\n",
       "      <td>fraudulent</td>\n",
       "      <td>Sen. Josh Hawley Slams Walmart Tweet Calling H...</td>\n",
       "      <td>1</td>\n",
       "      <td>2021</td>\n",
       "    </tr>\n",
       "    <tr>\n",
       "      <th>10335</th>\n",
       "      <td>10336</td>\n",
       "      <td>2021-01-01</td>\n",
       "      <td>2020-election</td>\n",
       "      <td>massive corruption</td>\n",
       "      <td>Before even discussing the massive corruption ...</td>\n",
       "      <td>1</td>\n",
       "      <td>2021</td>\n",
       "    </tr>\n",
       "    <tr>\n",
       "      <th>10336</th>\n",
       "      <td>10337</td>\n",
       "      <td>2021-01-01</td>\n",
       "      <td>2020-election</td>\n",
       "      <td>millions of fraudulent votes</td>\n",
       "      <td>....is therefore both illegal and invalid, and...</td>\n",
       "      <td>1</td>\n",
       "      <td>2021</td>\n",
       "    </tr>\n",
       "    <tr>\n",
       "      <th>10337</th>\n",
       "      <td>10338</td>\n",
       "      <td>2021-01-01</td>\n",
       "      <td>2020-election</td>\n",
       "      <td>not legal or Constitutional</td>\n",
       "      <td>....changes made to the voting process, rules ...</td>\n",
       "      <td>1</td>\n",
       "      <td>2021</td>\n",
       "    </tr>\n",
       "    <tr>\n",
       "      <th>10338</th>\n",
       "      <td>10339</td>\n",
       "      <td>2021-01-01</td>\n",
       "      <td>fox-news</td>\n",
       "      <td>@FoxNews Weekend Daytime is not watchable</td>\n",
       "      <td>.@FoxNews Weekend Daytime is not watchable. Sw...</td>\n",
       "      <td>1</td>\n",
       "      <td>2021</td>\n",
       "    </tr>\n",
       "  </tbody>\n",
       "</table>\n",
       "</div>"
      ],
      "text/plain": [
       "       sr no       date         target  \\\n",
       "10333  10334 2021-01-01     john-thune   \n",
       "10334  10335 2021-01-01  2020-election   \n",
       "10335  10336 2021-01-01  2020-election   \n",
       "10336  10337 2021-01-01  2020-election   \n",
       "10337  10338 2021-01-01  2020-election   \n",
       "10338  10339 2021-01-01       fox-news   \n",
       "\n",
       "                                          insult  \\\n",
       "10333                                       RINO   \n",
       "10334                                 fraudulent   \n",
       "10335                         massive corruption   \n",
       "10336               millions of fraudulent votes   \n",
       "10337                not legal or Constitutional   \n",
       "10338  @FoxNews Weekend Daytime is not watchable   \n",
       "\n",
       "                                                   tweet  month  year  \n",
       "10333  I hope to see the great Governor of South Dako...      1  2021  \n",
       "10334  Sen. Josh Hawley Slams Walmart Tweet Calling H...      1  2021  \n",
       "10335  Before even discussing the massive corruption ...      1  2021  \n",
       "10336  ....is therefore both illegal and invalid, and...      1  2021  \n",
       "10337  ....changes made to the voting process, rules ...      1  2021  \n",
       "10338  .@FoxNews Weekend Daytime is not watchable. Sw...      1  2021  "
      ]
     },
     "metadata": {},
     "execution_count": 16
    }
   ],
   "metadata": {}
  },
  {
   "cell_type": "code",
   "execution_count": 17,
   "source": [
    "pd.DataFrame(new_year.value_counts())"
   ],
   "outputs": [
    {
     "output_type": "execute_result",
     "data": {
      "text/html": [
       "<div>\n",
       "<style scoped>\n",
       "    .dataframe tbody tr th:only-of-type {\n",
       "        vertical-align: middle;\n",
       "    }\n",
       "\n",
       "    .dataframe tbody tr th {\n",
       "        vertical-align: top;\n",
       "    }\n",
       "\n",
       "    .dataframe thead th {\n",
       "        text-align: right;\n",
       "    }\n",
       "</style>\n",
       "<table border=\"1\" class=\"dataframe\">\n",
       "  <thead>\n",
       "    <tr style=\"text-align: right;\">\n",
       "      <th></th>\n",
       "      <th></th>\n",
       "      <th></th>\n",
       "      <th></th>\n",
       "      <th></th>\n",
       "      <th></th>\n",
       "      <th></th>\n",
       "      <th>0</th>\n",
       "    </tr>\n",
       "    <tr>\n",
       "      <th>sr no</th>\n",
       "      <th>date</th>\n",
       "      <th>target</th>\n",
       "      <th>insult</th>\n",
       "      <th>tweet</th>\n",
       "      <th>month</th>\n",
       "      <th>year</th>\n",
       "      <th></th>\n",
       "    </tr>\n",
       "  </thead>\n",
       "  <tbody>\n",
       "    <tr>\n",
       "      <th>10339</th>\n",
       "      <th>2021-01-01</th>\n",
       "      <th>fox-news</th>\n",
       "      <th>@FoxNews Weekend Daytime is not watchable</th>\n",
       "      <th>.@FoxNews Weekend Daytime is not watchable. Switching over to @OANN!</th>\n",
       "      <th>1</th>\n",
       "      <th>2021</th>\n",
       "      <td>1</td>\n",
       "    </tr>\n",
       "    <tr>\n",
       "      <th>10338</th>\n",
       "      <th>2021-01-01</th>\n",
       "      <th>2020-election</th>\n",
       "      <th>not legal or Constitutional</th>\n",
       "      <th>....changes made to the voting process, rules and regulations, many made hastily before the election, and therefore the whole State Election is not legal or Constitutional. Additionally, the Georgia Consent Decree is Unconstitutional &amp; the State 2020 Presidential Election....</th>\n",
       "      <th>1</th>\n",
       "      <th>2021</th>\n",
       "      <td>1</td>\n",
       "    </tr>\n",
       "    <tr>\n",
       "      <th>10337</th>\n",
       "      <th>2021-01-01</th>\n",
       "      <th>2020-election</th>\n",
       "      <th>millions of fraudulent votes</th>\n",
       "      <th>....is therefore both illegal and invalid, and that would include the two current Senatorial Elections. In Wisconsin, Voters not asking for applications invalidates the Election. All of this without even discussing the millions of fraudulent votes that were cast or altered!</th>\n",
       "      <th>1</th>\n",
       "      <th>2021</th>\n",
       "      <td>1</td>\n",
       "    </tr>\n",
       "    <tr>\n",
       "      <th>10336</th>\n",
       "      <th>2021-01-01</th>\n",
       "      <th>2020-election</th>\n",
       "      <th>massive corruption</th>\n",
       "      <th>Before even discussing the massive corruption which took place in the 2020 Election, which gives us far more votes than is necessary to win all of the Swing States (only need three), it must be noted that the State Legislatures were not in any way responsible for the massive....</th>\n",
       "      <th>1</th>\n",
       "      <th>2021</th>\n",
       "      <td>1</td>\n",
       "    </tr>\n",
       "    <tr>\n",
       "      <th>10335</th>\n",
       "      <th>2021-01-01</th>\n",
       "      <th>2020-election</th>\n",
       "      <th>fraudulent</th>\n",
       "      <th>Sen. Josh Hawley Slams Walmart Tweet Calling Him a ‘Sore Loser‘ https://t.co/wmShnPcrzj via @BreitbartNews America is proud of Josh and the many others who are joining him. The USA cannot have fraudulent elections!</th>\n",
       "      <th>1</th>\n",
       "      <th>2021</th>\n",
       "      <td>1</td>\n",
       "    </tr>\n",
       "    <tr>\n",
       "      <th>10334</th>\n",
       "      <th>2021-01-01</th>\n",
       "      <th>john-thune</th>\n",
       "      <th>RINO</th>\n",
       "      <th>I hope to see the great Governor of South Dakota @KristiNoem, run against RINO @SenJohnThune, in the upcoming 2022 Primary. She would do a fantastic job in the U.S. Senate, but if not Kristi, others are already lining up. South Dakota wants strong leadership, NOW!</th>\n",
       "      <th>1</th>\n",
       "      <th>2021</th>\n",
       "      <td>1</td>\n",
       "    </tr>\n",
       "  </tbody>\n",
       "</table>\n",
       "</div>"
      ],
      "text/plain": [
       "                                                                                                                                        0\n",
       "sr no date       target        insult                                    tweet                                              month year   \n",
       "10339 2021-01-01 fox-news      @FoxNews Weekend Daytime is not watchable .@FoxNews Weekend Daytime is not watchable. Swi... 1     2021  1\n",
       "10338 2021-01-01 2020-election not legal or Constitutional               ....changes made to the voting process, rules a... 1     2021  1\n",
       "10337 2021-01-01 2020-election millions of fraudulent votes              ....is therefore both illegal and invalid, and ... 1     2021  1\n",
       "10336 2021-01-01 2020-election massive corruption                        Before even discussing the massive corruption w... 1     2021  1\n",
       "10335 2021-01-01 2020-election fraudulent                                Sen. Josh Hawley Slams Walmart Tweet Calling Hi... 1     2021  1\n",
       "10334 2021-01-01 john-thune    RINO                                      I hope to see the great Governor of South Dakot... 1     2021  1"
      ]
     },
     "metadata": {},
     "execution_count": 17
    }
   ],
   "metadata": {}
  },
  {
   "cell_type": "code",
   "execution_count": 18,
   "source": [
    "new_year.count()['tweet']"
   ],
   "outputs": [
    {
     "output_type": "execute_result",
     "data": {
      "text/plain": [
       "6"
      ]
     },
     "metadata": {},
     "execution_count": 18
    }
   ],
   "metadata": {}
  }
 ]
}